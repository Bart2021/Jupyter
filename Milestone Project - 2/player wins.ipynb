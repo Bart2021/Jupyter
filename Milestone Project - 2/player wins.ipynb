{
 "cells": [
  {
   "cell_type": "code",
   "execution_count": null,
   "metadata": {},
   "outputs": [],
   "source": [
    "dealer_cards = []\n",
    "player_cards = []\n",
    "\n",
    "def player_wins():\n",
    "    suma = 0\n",
    "    for num in range(0,len(player_cards)):\n",
    "        suma += player_cards[num].points\n",
    "    return suma"
   ]
  }
 ],
 "metadata": {
  "kernelspec": {
   "display_name": "Python 3",
   "language": "python",
   "name": "python3"
  },
  "language_info": {
   "codemirror_mode": {
    "name": "ipython",
    "version": 3
   },
   "file_extension": ".py",
   "mimetype": "text/x-python",
   "name": "python",
   "nbconvert_exporter": "python",
   "pygments_lexer": "ipython3",
   "version": "3.7.0"
  }
 },
 "nbformat": 4,
 "nbformat_minor": 2
}
