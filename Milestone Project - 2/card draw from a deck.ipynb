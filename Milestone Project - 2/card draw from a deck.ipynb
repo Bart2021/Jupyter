{
 "cells": [
  {
   "cell_type": "code",
   "execution_count": 10,
   "metadata": {},
   "outputs": [
    {
     "name": "stdout",
     "output_type": "stream",
     "text": [
      "Eight of Hearts\n",
      "Nine of Spades\n",
      "Jack of Hearts\n",
      "Five of Diamonds\n",
      "King of Clubs\n",
      "Seven of Diamonds\n",
      "Ten of Hearts\n",
      "Nine of Clubs\n",
      "Ten of Clubs\n",
      "Six of Spades\n",
      "Three of Spades\n",
      "Seven of Spades\n",
      "Three of Clubs\n",
      "Queen of Hearts\n",
      "Three of Diamonds\n",
      "Eight of Spades\n",
      "Nine of Diamonds\n",
      "Two of Clubs\n",
      "Four of Hearts\n",
      "Two of Spades\n",
      "Ace of Clubs\n",
      "Ace of Spades\n",
      "Eight of Clubs\n",
      "Five of Hearts\n",
      "Six of Diamonds\n",
      "Four of Diamonds\n",
      "Five of Clubs\n",
      "Queen of Clubs\n",
      "Ace of Hearts\n",
      "Seven of Hearts\n",
      "Nine of Hearts\n",
      "King of Hearts\n",
      "Ace of Diamonds\n",
      "Ten of Spades\n",
      "Six of Clubs\n",
      "Jack of Diamonds\n",
      "Six of Hearts\n",
      "Two of Diamonds\n",
      "King of Spades\n",
      "King of Diamonds\n",
      "Seven of Clubs\n",
      "Ten of Diamonds\n",
      "Jack of Spades\n",
      "Queen of Spades\n",
      "Four of Clubs\n",
      "Four of Spades\n",
      "Queen of Diamonds\n",
      "Two of Hearts\n",
      "Five of Spades\n",
      "Three of Hearts\n",
      "Eight of Diamonds\n",
      "Jack of Clubs\n"
     ]
    }
   ],
   "source": [
    "import random\n",
    "\n",
    "clubs = ['Clubs','Ace','Two','Three','Four','Five','Six','Seven','Eight','Nine','Ten','Jack','Queen','King']\n",
    "diamonds = ['Diamonds','Ace','Two','Three','Four','Five','Six','Seven','Eight','Nine','Ten','Jack','Queen','King']\n",
    "hearts = ['Hearts','Ace','Two','Three','Four','Five','Six','Seven','Eight','Nine','Ten','Jack','Queen','King']\n",
    "spades = ['Spades','Ace','Two','Three','Four','Five','Six','Seven','Eight','Nine','Ten','Jack','Queen','King']\n",
    "\n",
    "class Card():\n",
    "    \n",
    "    def __init__(self,shape,value_str,value):\n",
    "        \n",
    "        self.shape = shape\n",
    "        self.value_str = value_str\n",
    "        self.value = value\n",
    "        if value == 1:\n",
    "            self.points = 11\n",
    "        elif value > 1 and value < 11:\n",
    "            self.points = value\n",
    "        else:\n",
    "            self.points = 10\n",
    "            \n",
    "    def __str__(self):\n",
    "        \n",
    "        return f'{self.value_str} of {self.shape}'\n",
    "\n",
    "\n",
    "\n",
    "\n",
    "\n",
    "        \n",
    "def card_draw_from_deck():\n",
    "    \n",
    "    while True:\n",
    "        \n",
    "        shape = random.choice(['Clubs','Diamonds','Hearts','Spades'])\n",
    "        value = random.randint(1, 13)\n",
    "\n",
    "        if shape == clubs[0]:\n",
    "            if clubs[value] != 'taken':\n",
    "\n",
    "                karta = Card(clubs[0],clubs[value],value)\n",
    "                clubs[value] = 'taken'\n",
    "                return karta\n",
    "            else:\n",
    "                continue\n",
    "                \n",
    "        elif shape == diamonds[0]:\n",
    "            if diamonds[value] != 'taken':\n",
    "\n",
    "                karta = Card(diamonds[0],diamonds[value],value)\n",
    "                diamonds[value] = 'taken'\n",
    "                return karta\n",
    "            else:\n",
    "                continue\n",
    "                \n",
    "        elif shape == hearts[0]:\n",
    "            if hearts[value] != 'taken':\n",
    "\n",
    "                karta = Card(hearts[0],hearts[value],value)\n",
    "                hearts[value] = 'taken'\n",
    "                return karta\n",
    "            else:\n",
    "                continue\n",
    "                \n",
    "        elif shape == spades[0]:\n",
    "            if spades[value] != 'taken':\n",
    "\n",
    "                karta = Card(spades[0],spades[value],value)\n",
    "                spades[value] = 'taken'\n",
    "                return karta\n",
    "            else:\n",
    "                continue\n",
    "            \n",
    "\n",
    "            \n",
    "            \n",
    "for num in range(1,53):\n",
    "    print(card_draw_from_deck())"
   ]
  },
  {
   "cell_type": "code",
   "execution_count": 11,
   "metadata": {},
   "outputs": [
    {
     "name": "stdout",
     "output_type": "stream",
     "text": [
      "['Clubs', 'taken', 'taken', 'taken', 'taken', 'taken', 'taken', 'taken', 'taken', 'taken', 'taken', 'taken', 'taken', 'taken']\n"
     ]
    }
   ],
   "source": [
    "print(clubs)"
   ]
  },
  {
   "cell_type": "code",
   "execution_count": 12,
   "metadata": {},
   "outputs": [
    {
     "name": "stdout",
     "output_type": "stream",
     "text": [
      "['Spades', 'taken', 'taken', 'taken', 'taken', 'taken', 'taken', 'taken', 'taken', 'taken', 'taken', 'taken', 'taken', 'taken']\n"
     ]
    }
   ],
   "source": [
    "print(spades)"
   ]
  },
  {
   "cell_type": "code",
   "execution_count": null,
   "metadata": {},
   "outputs": [],
   "source": []
  }
 ],
 "metadata": {
  "kernelspec": {
   "display_name": "Python 3",
   "language": "python",
   "name": "python3"
  },
  "language_info": {
   "codemirror_mode": {
    "name": "ipython",
    "version": 3
   },
   "file_extension": ".py",
   "mimetype": "text/x-python",
   "name": "python",
   "nbconvert_exporter": "python",
   "pygments_lexer": "ipython3",
   "version": "3.7.0"
  }
 },
 "nbformat": 4,
 "nbformat_minor": 2
}
